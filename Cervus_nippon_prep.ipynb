{
  "nbformat": 4,
  "nbformat_minor": 0,
  "metadata": {
    "colab": {
      "provenance": [],
      "authorship_tag": "ABX9TyN2tZCyjrFG/6ullr07MGWK",
      "include_colab_link": true
    },
    "kernelspec": {
      "name": "python3",
      "display_name": "Python 3"
    },
    "language_info": {
      "name": "python"
    }
  },
  "cells": [
    {
      "cell_type": "markdown",
      "metadata": {
        "id": "view-in-github",
        "colab_type": "text"
      },
      "source": [
        "<a href=\"https://colab.research.google.com/github/jjangmo91/Cervus-nippon/blob/main/Cervus_nippon_prep.ipynb\" target=\"_parent\"><img src=\"https://colab.research.google.com/assets/colab-badge.svg\" alt=\"Open In Colab\"/></a>"
      ]
    },
    {
      "cell_type": "markdown",
      "source": [
        "# 1. 환경 설정 및 라이브러리 임포트"
      ],
      "metadata": {
        "id": "HEt-Nc1GNmIO"
      }
    },
    {
      "cell_type": "code",
      "execution_count": null,
      "metadata": {
        "id": "5yhR_0GM2hyQ"
      },
      "outputs": [],
      "source": [
        "# 필수 패키지 설치\n",
        "!pip install eesdm -q\n",
        "!pip install geojson -q\n",
        "!pip install geemap -U -q\n",
        "\n",
        "# 라이브러리 임포트\n",
        "import ee\n",
        "import geemap\n",
        "import pandas as pd\n",
        "import eeSDM\n",
        "from ipyleaflet import WidgetControl\n",
        "from ipywidgets import Label\n",
        "import glob\n",
        "\n",
        "# Earth Engine 인증 및 초기화\n",
        "ee.Authenticate()\n",
        "ee.Initialize(project='ee-jjangmo91')\n",
        "\n",
        "# Google Drive 마운트\n",
        "from google.colab import drive\n",
        "drive.mount('/content/drive')\n",
        "data_path = '/content/drive/MyDrive/KNPS/Deer/Ecotopia_Data_2024_2025/'"
      ]
    },
    {
      "cell_type": "markdown",
      "source": [
        "# 2. GPS 원본 데이터 전처리 및 분석용 CSV 파일 저장"
      ],
      "metadata": {
        "id": "4Fc2oFpFNr0P"
      }
    },
    {
      "cell_type": "code",
      "source": [
        "# 개체별 GPS 파일 목록 불러오기\n",
        "dsf_files = sorted(glob.glob(data_path + 'DSF-*.csv'))\n",
        "dsm_files = sorted(glob.glob(data_path + 'DSM-*.csv'))\n",
        "print(f\"암컷(DSF) 파일 {len(dsf_files)}개, 수컷(DSM) 파일 {len(dsm_files)}개를 발견했습니다.\")\n",
        "\n",
        "# 데이터 통합 함수 정의\n",
        "def combine_gps_data(file_list):\n",
        "    df_list = [pd.read_csv(file) for file in file_list]\n",
        "    return pd.concat(df_list, ignore_index=True)\n",
        "\n",
        "# 성별로 데이터 통합\n",
        "df_female = combine_gps_data(dsf_files)\n",
        "df_male = combine_gps_data(dsm_files)\n",
        "df_all = pd.concat([df_female, df_male], ignore_index=True)\n",
        "\n",
        "# 시간 정보(Collecting_time)를 날짜/시간 형태로 변환\n",
        "for df in [df_female, df_male, df_all]:\n",
        "    df['Collecting_time'] = pd.to_datetime(df['Collecting_time'], errors='coerce')\n",
        "\n",
        "# 분석 그룹(전체, 암컷, 수컷)별로 반복 처리\n",
        "datasets_to_create = {'all': df_all, 'female': df_female, 'male': df_male}\n",
        "\n",
        "for name, df in datasets_to_create.items():\n",
        "    # 전체 기간 데이터셋 저장\n",
        "    sdm_entire = pd.DataFrame({\n",
        "        'longitude': df['Longitude'],\n",
        "        'latitude': df['Latitude'],\n",
        "        'cervus': 'cervus-nippon'\n",
        "    })\n",
        "    output_filename_entire = f'sdm_occurrences_{name}_entire_raw.csv'\n",
        "    sdm_entire.to_csv(data_path + output_filename_entire, index=False)\n",
        "    print(f\"  - [{name.upper()} 전체 기간] {len(sdm_entire):,}개 좌표 저장 완료.\")\n",
        "\n",
        "    # 겨울철(12월~2월) 데이터셋 저장\n",
        "    df_winter = df[df['Collecting_time'].dt.month.isin([12, 1, 2])].copy()\n",
        "    if not df_winter.empty:\n",
        "        sdm_winter = pd.DataFrame({\n",
        "            'longitude': df_winter['Longitude'],\n",
        "            'latitude': df_winter['Latitude'],\n",
        "            'cervus': 'cervus-nippon'\n",
        "        })\n",
        "        output_filename_winter = f'sdm_occurrences_{name}_winter_raw.csv'\n",
        "        sdm_winter.to_csv(data_path + output_filename_winter, index=False)\n",
        "        print(f\"  - [{name.upper()} 겨울철] {len(sdm_winter):,}개 좌표 저장 완료.\")"
      ],
      "metadata": {
        "id": "Ul0EeNCfg5aX"
      },
      "execution_count": null,
      "outputs": []
    },
    {
      "cell_type": "markdown",
      "source": [
        "#3. 전처리된 4개 그룹 데이터 시각화"
      ],
      "metadata": {
        "id": "JMtdDWweNvKs"
      }
    },
    {
      "cell_type": "code",
      "source": [
        "# 시각화용 데이터 및 연구지역(AOI) 불러오기\n",
        "df_female_entire = pd.read_csv(data_path + 'sdm_occurrences_female_entire_raw.csv')\n",
        "df_male_entire = pd.read_csv(data_path + 'sdm_occurrences_male_entire_raw.csv')\n",
        "df_female_winter = pd.read_csv(data_path + 'sdm_occurrences_female_winter_raw.csv')\n",
        "df_male_winter = pd.read_csv(data_path + 'sdm_occurrences_male_winter_raw.csv')\n",
        "print(\"\\nVisualization data for 4 groups loaded successfully.\")\n",
        "\n",
        "# 속리산 국립공원 경계(AOI) 불러오기 (WDPA ID: 773)\n",
        "protected_areas = ee.FeatureCollection(\"WCMC/WDPA/current/polygons\")\n",
        "aoi = protected_areas.filter(ee.Filter.eq('WDPAID', 773)).geometry()\n",
        "print(\"Songnisan National Park AOI loaded.\")\n",
        "print(\"-\" * 30)\n",
        "\n",
        "# geemap 호환성을 위해 모든 데이터프레임의 열 이름을 변경\n",
        "for df in [df_female_entire, df_male_entire, df_female_winter, df_male_winter]:\n",
        "    df.rename(columns={'x': 'longitude', 'y': 'latitude'}, inplace=True)\n",
        "\n",
        "# pandas 데이터프레임을 ee.FeatureCollection으로 변환\n",
        "ee_f_entire = geemap.pandas_to_ee(df_female_entire)\n",
        "ee_m_entire = geemap.pandas_to_ee(df_male_entire)\n",
        "ee_f_winter = geemap.pandas_to_ee(df_female_winter)\n",
        "ee_m_winter = geemap.pandas_to_ee(df_male_winter)\n",
        "\n",
        "# geemap을 이용한 대화형 지도 생성\n",
        "Map = geemap.Map(center=[36.54, 127.85], zoom=11)\n",
        "\n",
        "# 지도에 레이어 추가 (겨울철 데이터를 더 잘 보이게 위에 추가)\n",
        "Map.addLayer(aoi, {'color': '#006600', 'fillColor': '#33996655'}, 'Songnisan_NP_AOI')\n",
        "Map.addLayer(ee_f_entire, {'color': '#F08080'}, 'Female (Entire)') # 암컷 전체: 연한 분홍\n",
        "Map.addLayer(ee_m_entire, {'color': '#87CEEB'}, 'Male (Entire)')   # 수컷 전체: 연한 파랑\n",
        "Map.addLayer(ee_f_winter, {'color': '#DC143C'}, 'Female (Winter)') # 암컷 겨울: 진한 분홍\n",
        "Map.addLayer(ee_m_winter, {'color': '#0000CD'}, 'Male (Winter)')   # 수컷 겨울: 진한 파랑\n",
        "\n",
        "# 범례(Legend) 추가\n",
        "Map.add_legend(\n",
        "    title=\"Legend\",\n",
        "    legend_dict={\n",
        "        \"Female (Entire Period)\": \"F08080\",\n",
        "        \"Male (Entire Period)\": \"87CEEB\",\n",
        "        \"Female (Winter)\": \"DC143C\",\n",
        "        \"Male (Winter)\": \"0000CD\"\n",
        "    }\n",
        ")\n",
        "\n",
        "# 제목 추가\n",
        "title_widget = Label(value=\"Sika Deer Occurrence by Sex and Season\")\n",
        "Map.add_control(WidgetControl(widget=title_widget, position='topright'))\n",
        "\n",
        "# 지도 출력\n",
        "display(Map)"
      ],
      "metadata": {
        "id": "0NkPnKiQykSG"
      },
      "execution_count": null,
      "outputs": []
    }
  ]
}